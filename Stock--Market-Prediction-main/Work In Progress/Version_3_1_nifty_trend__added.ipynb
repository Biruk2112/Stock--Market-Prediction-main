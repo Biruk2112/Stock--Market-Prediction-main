{
  "cells": [
    {
      "cell_type": "code",
      "execution_count": null,
      "metadata": {
        "id": "QE_gpKidJCrz"
      },
      "outputs": [],
      "source": [
        "import yfinance as yf\n",
        "\n",
        "\n"
      ]
    },
    {
      "cell_type": "code",
      "execution_count": null,
      "metadata": {
        "id": "tBYfTzxwJMKl"
      },
      "outputs": [],
      "source": [
        "def download_stock_data(ticker, start_date, end_date):\n",
        "    return yf.download(ticker, start=start_date, end=end_date)\n",
        "\n",
        "stocks = ['BAJFINANCE.NS', 'HDFCAMC.NS', 'ASIANPAINT.NS', 'TCS.NS', 'DRREDDY.NS', '^NSEI']  # ^NSEI for Nifty 50\n",
        "start_date = '2012-01-01'\n",
        "end_date = '2023-01-26'\n",
        "\n",
        "stock_data = {stock: download_stock_data(stock, start_date, end_date) for stock in stocks}"
      ]
    },
    {
      "cell_type": "code",
      "execution_count": null,
      "metadata": {
        "id": "buRnSULELezX"
      },
      "outputs": [],
      "source": [
        "pip install feedparser textblob\n"
      ]
    },
    {
      "cell_type": "code",
      "execution_count": 33,
      "metadata": {
        "id": "Nuyoie4FLa4C"
      },
      "outputs": [],
      "source": [
        "import feedparser\n",
        "from textblob import TextBlob\n",
        "import pandas as pd"
      ]
    },
    {
      "cell_type": "code",
      "execution_count": 34,
      "metadata": {
        "id": "4FDweEUaLjq6"
      },
      "outputs": [],
      "source": [
        "def fetch_news(stock_name):\n",
        "    feed_url = f'https://news.google.com/rss/search?q={stock_name}+when:7d&hl=en-IN&gl=IN&ceid=IN:en'\n",
        "    news_feed = feedparser.parse(feed_url)\n",
        "    return [(entry.title, entry.link, entry.published) for entry in news_feed.entries]\n",
        "\n",
        "def analyze_sentiment(text):\n",
        "    analysis = TextBlob(text)\n",
        "    return analysis.sentiment.polarity\n",
        "\n",
        "def get_stock_news_sentiment(stock_names):\n",
        "    all_news_sentiments = []\n",
        "    for stock in stock_names:\n",
        "        news_items = fetch_news(stock)\n",
        "        for title, link, published in news_items:\n",
        "            sentiment_score = analyze_sentiment(title)  # Analyzing sentiment of the news title\n",
        "            all_news_sentiments.append([stock, title, link, published, sentiment_score])\n",
        "    return pd.DataFrame(all_news_sentiments, columns=['Stock', 'Title', 'Link', 'Published', 'Sentiment'])"
      ]
    },
    {
      "cell_type": "code",
      "execution_count": 35,
      "metadata": {
        "id": "adhI9FWlLsGX"
      },
      "outputs": [],
      "source": [
        "# List of stocks\n",
        "stocks = ['BAJFINANCE', 'HDFCAMC', 'ASIANPAINT', 'TCS', 'DRREDDY']"
      ]
    },
    {
      "cell_type": "code",
      "execution_count": null,
      "metadata": {
        "id": "sQDsrr4gLwMB"
      },
      "outputs": [],
      "source": [
        "# Get news sentiment\n",
        "news_sentiment = get_stock_news_sentiment(stocks)\n",
        "print(news_sentiment)"
      ]
    },
    {
      "cell_type": "code",
      "execution_count": 37,
      "metadata": {
        "id": "MR0mpdryN3X1"
      },
      "outputs": [],
      "source": [
        "import pandas as pd\n",
        "from sklearn.ensemble import RandomForestClassifier\n",
        "from sklearn.model_selection import train_test_split\n",
        "from sklearn.metrics import classification_report\n",
        "from sklearn.preprocessing import StandardScaler\n",
        "from textblob import TextBlob\n",
        "import numpy as np"
      ]
    },
    {
      "cell_type": "code",
      "execution_count": 54,
      "metadata": {
        "id": "jFUB1g89N6Ys"
      },
      "outputs": [],
      "source": [
        "def get_stock_data(ticker, start_date, end_date):\n",
        "    return yf.download(ticker, start=start_date, end=end_date)\n",
        "\n",
        "def calculate_rsi(data, window=14):\n",
        "    delta = data['Close'].diff()\n",
        "    gain = (delta.where(delta > 0, 0)).rolling(window=window).mean()\n",
        "    loss = (-delta.where(delta < 0, 0)).rolling(window=window).mean()\n",
        "    rs = gain / loss\n",
        "    rsi = 100 - (100 / (1 + rs))\n",
        "    return rsi.fillna(0)\n",
        "\n",
        "def calculate_sma(data, window=10):\n",
        "    return data['Close'].rolling(window=window).mean()\n",
        "\n",
        "def calculate_ema(data, window=10):\n",
        "    return data['Close'].ewm(span=window, adjust=False).mean()\n",
        "\n",
        "def perform_sentiment_analysis(text):\n",
        "    return TextBlob(text).sentiment.polarity\n",
        "\n",
        "\n"
      ]
    },
    {
      "cell_type": "code",
      "execution_count": 55,
      "metadata": {
        "colab": {
          "base_uri": "https://localhost:8080/"
        },
        "id": "32LuX39EOI59",
        "outputId": "f1bfa925-2419-4b17-f3ec-4a10ec3e529b"
      },
      "outputs": [
        {
          "name": "stdout",
          "output_type": "stream",
          "text": [
            "[*********************100%%**********************]  1 of 1 completed\n",
            "[*********************100%%**********************]  1 of 1 completed\n",
            "[*********************100%%**********************]  1 of 1 completed\n",
            "[*********************100%%**********************]  1 of 1 completed\n",
            "[*********************100%%**********************]  1 of 1 completed\n"
          ]
        }
      ],
      "source": [
        "tickers = ['BAJFINANCE.NS', 'HDFCAMC.NS', 'ASIANPAINT.NS', 'TCS.NS', 'DRREDDY.NS']\n",
        "start_date = '2012-01-01'\n",
        "end_date = '2023-12-26'\n",
        "\n",
        "stock_data = {}\n",
        "for ticker in tickers:\n",
        "    df = get_stock_data(ticker, start_date, end_date)\n",
        "    df['RSI'] = calculate_rsi(df)\n",
        "    df['SMA'] = calculate_sma(df)\n",
        "    df['EMA'] = calculate_ema(df)\n",
        "    stock_data[ticker] = df\n",
        "\n"
      ]
    },
    {
      "cell_type": "code",
      "execution_count": 58,
      "metadata": {
        "id": "xL3ve-HgR9OD"
      },
      "outputs": [],
      "source": [
        "for ticker in stock_data:\n",
        "    # Fetch news and analyze sentiment\n",
        "    news_items = fetch_news(ticker)\n",
        "    sentiment_scores = [analyze_sentiment(title) for title, _, _ in news_items]\n",
        "    avg_sentiment_score = np.mean(sentiment_scores) if sentiment_scores else 0\n",
        "\n",
        "    # Add Avg_Sentiment to the DataFrame\n",
        "    stock_data[ticker]['Avg_Sentiment'] = avg_sentiment_score\n",
        "\n"
      ]
    },
    {
      "cell_type": "code",
      "execution_count": 63,
      "metadata": {
        "colab": {
          "base_uri": "https://localhost:8080/"
        },
        "id": "HxuJ312PVUJP",
        "outputId": "83afbd0e-bfff-4085-c686-c7588b839fac"
      },
      "outputs": [
        {
          "name": "stdout",
          "output_type": "stream",
          "text": [
            "\r[*********************100%%**********************]  1 of 1 completed\n"
          ]
        }
      ],
      "source": [
        "#tweaked nifty data added\n",
        "start_date = '2012-01-01'\n",
        "end_date = '2023-12-26'\n",
        "nifty_data = get_stock_data('^NSEI', start_date, end_date)  # '^NSEI' is the ticker for Nifty 50\n",
        "\n"
      ]
    },
    {
      "cell_type": "code",
      "execution_count": 64,
      "metadata": {
        "id": "NNvMOrJ5VT9z"
      },
      "outputs": [],
      "source": [
        "nifty_data['RSI_Nifty'] = calculate_rsi(nifty_data)\n",
        "nifty_data['SMA_Nifty'] = calculate_sma(nifty_data)\n",
        "nifty_data['EMA_Nifty'] = calculate_ema(nifty_data)\n"
      ]
    },
    {
      "cell_type": "code",
      "execution_count": 65,
      "metadata": {
        "id": "H1JFbqXwV7iL"
      },
      "outputs": [],
      "source": [
        "for ticker in stock_data:\n",
        "    stock_data[ticker] = stock_data[ticker].merge(nifty_data[['RSI_Nifty', 'SMA_Nifty', 'EMA_Nifty']], left_index=True, right_index=True, how='left')\n"
      ]
    },
    {
      "cell_type": "code",
      "execution_count": 66,
      "metadata": {
        "id": "k9jq0SMQSTDv"
      },
      "outputs": [],
      "source": [
        "combined_data = pd.concat(stock_data.values())\n",
        "scaler = StandardScaler()\n",
        "features = ['RSI', 'SMA', 'EMA', 'Avg_Sentiment','RSI_Nifty', 'SMA_Nifty', 'EMA_Nifty']\n",
        "combined_data[features] = scaler.fit_transform(combined_data[features])\n",
        "\n",
        "combined_data['Target'] = combined_data['Close'].shift(-5) > combined_data['Close']\n",
        "X = combined_data[features].fillna(0)\n",
        "y = combined_data['Target'].fillna(False)\n"
      ]
    },
    {
      "cell_type": "code",
      "execution_count": 67,
      "metadata": {
        "colab": {
          "base_uri": "https://localhost:8080/"
        },
        "id": "luqm7ruAT_i-",
        "outputId": "ff479164-a4b5-4d3f-bf87-6c4de3856302"
      },
      "outputs": [
        {
          "name": "stdout",
          "output_type": "stream",
          "text": [
            "              precision    recall  f1-score   support\n",
            "\n",
            "       False       0.75      0.67      0.71      1764\n",
            "        True       0.75      0.82      0.78      2180\n",
            "\n",
            "    accuracy                           0.75      3944\n",
            "   macro avg       0.75      0.74      0.75      3944\n",
            "weighted avg       0.75      0.75      0.75      3944\n",
            "\n"
          ]
        }
      ],
      "source": [
        "X_train, X_test, y_train, y_test = train_test_split(X, y, test_size=0.3, random_state=42)\n",
        "\n",
        "model = RandomForestClassifier(n_estimators=100, random_state=42)\n",
        "model.fit(X_train, y_train)\n",
        "predictions = model.predict(X_test)\n",
        "print(classification_report(y_test, predictions))\n"
      ]
    }
  ],
  "metadata": {
    "colab": {
      "provenance": []
    },
    "kernelspec": {
      "display_name": "Python 3",
      "name": "python3"
    },
    "language_info": {
      "codemirror_mode": {
        "name": "ipython",
        "version": 3
      },
      "file_extension": ".py",
      "mimetype": "text/x-python",
      "name": "python",
      "nbconvert_exporter": "python",
      "pygments_lexer": "ipython3",
      "version": "3.13.1"
    }
  },
  "nbformat": 4,
  "nbformat_minor": 0
}
